{
  "nbformat": 4,
  "nbformat_minor": 0,
  "metadata": {
    "accelerator": "GPU",
    "colab": {
      "name": "InceptionBinary.ipynb",
      "provenance": [],
      "collapsed_sections": [],
      "toc_visible": true
    },
    "kernelspec": {
      "display_name": "Python 3",
      "name": "python3"
    }
  },
  "cells": [
    {
      "cell_type": "markdown",
      "metadata": {
        "id": "Lcv1Mh3G_VeH"
      },
      "source": [
        "## Carga del dataset"
      ]
    },
    {
      "cell_type": "code",
      "metadata": {
        "id": "GeVkH-rt_VD2"
      },
      "source": [
        "import pandas as pd\n",
        "import numpy as np\n",
        "import os, sys, shutil"
      ],
      "execution_count": 1,
      "outputs": []
    },
    {
      "cell_type": "markdown",
      "metadata": {
        "id": "RhjlTBgGEd67"
      },
      "source": [
        "# Load preprocessed data"
      ]
    },
    {
      "cell_type": "markdown",
      "metadata": {
        "id": "bCm-QX94Eb2w"
      },
      "source": [
        "# Load original state data"
      ]
    },
    {
      "cell_type": "code",
      "metadata": {
        "colab": {
          "base_uri": "https://localhost:8080/"
        },
        "id": "gC7DILxLCEWs",
        "outputId": "0db88ec4-549f-4121-d297-f42f870ffa19"
      },
      "source": [
        "!wget https://storage.googleapis.com/diabetic-detection/data_downscaled.zip\n",
        "!unzip -o -q data_downscaled\n",
        "!mv .tmp original"
      ],
      "execution_count": 2,
      "outputs": [
        {
          "output_type": "stream",
          "text": [
            "--2020-11-23 15:47:41--  https://storage.googleapis.com/diabetic-detection/data_downscaled.zip\n",
            "Resolving storage.googleapis.com (storage.googleapis.com)... 64.233.189.128, 108.177.97.128, 108.177.125.128, ...\n",
            "Connecting to storage.googleapis.com (storage.googleapis.com)|64.233.189.128|:443... connected.\n",
            "HTTP request sent, awaiting response... 200 OK\n",
            "Length: 990385145 (945M) [application/zip]\n",
            "Saving to: ‘data_downscaled.zip’\n",
            "\n",
            "data_downscaled.zip 100%[===================>] 944.50M  66.2MB/s    in 16s     \n",
            "\n",
            "2020-11-23 15:47:59 (60.7 MB/s) - ‘data_downscaled.zip’ saved [990385145/990385145]\n",
            "\n"
          ],
          "name": "stdout"
        }
      ]
    },
    {
      "cell_type": "code",
      "metadata": {
        "id": "xbtPZJoCCPib"
      },
      "source": [
        "!mkdir data\n",
        "!mkdir data/original"
      ],
      "execution_count": 3,
      "outputs": []
    },
    {
      "cell_type": "code",
      "metadata": {
        "id": "gLtfZrLt-GKj"
      },
      "source": [
        "!mv /content/original/raw_dataset_extracted_downscaled /content/data/original"
      ],
      "execution_count": 4,
      "outputs": []
    },
    {
      "cell_type": "code",
      "metadata": {
        "id": "piSSGItDCX8w"
      },
      "source": [
        "!mkdir /content/data/dataframes && mv /content/data/original/raw_dataset_extracted_downscaled/trainLabels.csv /content/data/dataframes"
      ],
      "execution_count": 5,
      "outputs": []
    },
    {
      "cell_type": "code",
      "metadata": {
        "colab": {
          "base_uri": "https://localhost:8080/"
        },
        "id": "5Utv8oBj-i6h",
        "outputId": "993fbf91-761a-4e49-b687-a6ce36c9f825"
      },
      "source": [
        "labels = pd.read_csv('data/dataframes/trainLabels.csv')\n",
        "valuesWithE = labels.loc[labels['level'] >= 1]\n",
        "valuesNeutral = labels.loc[labels['level'] == 0]\n",
        "\n",
        "print(len(valuesNeutral))\n",
        "print(len(valuesWithE))\n",
        "\n",
        "sampledNeutral = valuesNeutral.sample(len(valuesWithE), random_state=44)\n",
        "print(len(sampledNeutral))\n",
        "\n",
        "sampled = pd.concat([valuesWithE, sampledNeutral])\n",
        "sampled = sampled.sample(frac=1).reset_index(drop=True)\n",
        "print(len(sampled))"
      ],
      "execution_count": 134,
      "outputs": [
        {
          "output_type": "stream",
          "text": [
            "25810\n",
            "9316\n",
            "9316\n",
            "18632\n"
          ],
          "name": "stdout"
        }
      ]
    },
    {
      "cell_type": "code",
      "metadata": {
        "colab": {
          "base_uri": "https://localhost:8080/",
          "height": 419
        },
        "id": "aBtkIHoR6PVv",
        "outputId": "25334e66-790a-440b-978b-8600b404b0fe"
      },
      "source": [
        "sampled"
      ],
      "execution_count": 39,
      "outputs": [
        {
          "output_type": "execute_result",
          "data": {
            "text/html": [
              "<div>\n",
              "<style scoped>\n",
              "    .dataframe tbody tr th:only-of-type {\n",
              "        vertical-align: middle;\n",
              "    }\n",
              "\n",
              "    .dataframe tbody tr th {\n",
              "        vertical-align: top;\n",
              "    }\n",
              "\n",
              "    .dataframe thead th {\n",
              "        text-align: right;\n",
              "    }\n",
              "</style>\n",
              "<table border=\"1\" class=\"dataframe\">\n",
              "  <thead>\n",
              "    <tr style=\"text-align: right;\">\n",
              "      <th></th>\n",
              "      <th>Unnamed: 0</th>\n",
              "      <th>image</th>\n",
              "      <th>level</th>\n",
              "      <th>ancho</th>\n",
              "      <th>alto</th>\n",
              "      <th>Diabetes</th>\n",
              "    </tr>\n",
              "  </thead>\n",
              "  <tbody>\n",
              "    <tr>\n",
              "      <th>0</th>\n",
              "      <td>12221</td>\n",
              "      <td>15336_right</td>\n",
              "      <td>0</td>\n",
              "      <td>4272</td>\n",
              "      <td>2848</td>\n",
              "      <td>No</td>\n",
              "    </tr>\n",
              "    <tr>\n",
              "      <th>1</th>\n",
              "      <td>3995</td>\n",
              "      <td>5013_right</td>\n",
              "      <td>0</td>\n",
              "      <td>3888</td>\n",
              "      <td>2592</td>\n",
              "      <td>No</td>\n",
              "    </tr>\n",
              "    <tr>\n",
              "      <th>2</th>\n",
              "      <td>7705</td>\n",
              "      <td>9693_right</td>\n",
              "      <td>0</td>\n",
              "      <td>4752</td>\n",
              "      <td>3168</td>\n",
              "      <td>No</td>\n",
              "    </tr>\n",
              "    <tr>\n",
              "      <th>3</th>\n",
              "      <td>3640</td>\n",
              "      <td>4551_left</td>\n",
              "      <td>0</td>\n",
              "      <td>4752</td>\n",
              "      <td>3168</td>\n",
              "      <td>No</td>\n",
              "    </tr>\n",
              "    <tr>\n",
              "      <th>4</th>\n",
              "      <td>559</td>\n",
              "      <td>681_right</td>\n",
              "      <td>2</td>\n",
              "      <td>4752</td>\n",
              "      <td>3168</td>\n",
              "      <td>Si</td>\n",
              "    </tr>\n",
              "    <tr>\n",
              "      <th>...</th>\n",
              "      <td>...</td>\n",
              "      <td>...</td>\n",
              "      <td>...</td>\n",
              "      <td>...</td>\n",
              "      <td>...</td>\n",
              "      <td>...</td>\n",
              "    </tr>\n",
              "    <tr>\n",
              "      <th>18627</th>\n",
              "      <td>32158</td>\n",
              "      <td>40612_left</td>\n",
              "      <td>2</td>\n",
              "      <td>4288</td>\n",
              "      <td>2848</td>\n",
              "      <td>Si</td>\n",
              "    </tr>\n",
              "    <tr>\n",
              "      <th>18628</th>\n",
              "      <td>16879</td>\n",
              "      <td>21172_right</td>\n",
              "      <td>1</td>\n",
              "      <td>3504</td>\n",
              "      <td>2336</td>\n",
              "      <td>Si</td>\n",
              "    </tr>\n",
              "    <tr>\n",
              "      <th>18629</th>\n",
              "      <td>32364</td>\n",
              "      <td>40871_left</td>\n",
              "      <td>0</td>\n",
              "      <td>4272</td>\n",
              "      <td>2848</td>\n",
              "      <td>No</td>\n",
              "    </tr>\n",
              "    <tr>\n",
              "      <th>18630</th>\n",
              "      <td>21385</td>\n",
              "      <td>26939_right</td>\n",
              "      <td>0</td>\n",
              "      <td>3888</td>\n",
              "      <td>2592</td>\n",
              "      <td>No</td>\n",
              "    </tr>\n",
              "    <tr>\n",
              "      <th>18631</th>\n",
              "      <td>27526</td>\n",
              "      <td>34844_left</td>\n",
              "      <td>4</td>\n",
              "      <td>3888</td>\n",
              "      <td>2592</td>\n",
              "      <td>Si</td>\n",
              "    </tr>\n",
              "  </tbody>\n",
              "</table>\n",
              "<p>18632 rows × 6 columns</p>\n",
              "</div>"
            ],
            "text/plain": [
              "       Unnamed: 0        image  level  ancho  alto Diabetes\n",
              "0           12221  15336_right      0   4272  2848       No\n",
              "1            3995   5013_right      0   3888  2592       No\n",
              "2            7705   9693_right      0   4752  3168       No\n",
              "3            3640    4551_left      0   4752  3168       No\n",
              "4             559    681_right      2   4752  3168       Si\n",
              "...           ...          ...    ...    ...   ...      ...\n",
              "18627       32158   40612_left      2   4288  2848       Si\n",
              "18628       16879  21172_right      1   3504  2336       Si\n",
              "18629       32364   40871_left      0   4272  2848       No\n",
              "18630       21385  26939_right      0   3888  2592       No\n",
              "18631       27526   34844_left      4   3888  2592       Si\n",
              "\n",
              "[18632 rows x 6 columns]"
            ]
          },
          "metadata": {
            "tags": []
          },
          "execution_count": 39
        }
      ]
    },
    {
      "cell_type": "code",
      "metadata": {
        "id": "kTCo6A1SC2IG"
      },
      "source": [
        "!rm -rf resampled\n",
        "!mkdir resampled\n",
        "!mkdir resampled/original\n",
        "!mkdir resampled/preprocessed"
      ],
      "execution_count": 40,
      "outputs": []
    },
    {
      "cell_type": "code",
      "metadata": {
        "id": "Ljmm_TCuAMV-"
      },
      "source": [
        "def create_directory_flow(df, subset_name, base, dest, imageType):\n",
        "  k = 0\n",
        "  for _, row in df.iterrows():\n",
        "    item = row.image\n",
        "    level = row['level']\n",
        "    basedir = base\n",
        "    destDir = dest\n",
        "    ext = '.jpeg'\n",
        "    k = k+1\n",
        "    orig_file = os.path.join(basedir, item + ext)\n",
        "    if level == 0:\n",
        "      os.makedirs(os.path.join(destDir, subset_name, 'No DR'), exist_ok=True)\n",
        "      dest_file = os.path.join(destDir, subset_name, 'No DR', item +str(k) + ext)\n",
        "      shutil.copy(orig_file, dest_file)\n",
        "    else:\n",
        "      os.makedirs(os.path.join(destDir, subset_name, 'DR'), exist_ok=True)\n",
        "      dest_file = os.path.join(destDir, subset_name, 'DR', item +str(k) + ext)\n",
        "      shutil.copy(orig_file, dest_file)"
      ],
      "execution_count": 41,
      "outputs": []
    },
    {
      "cell_type": "code",
      "metadata": {
        "id": "RTgYJwdw_PeB"
      },
      "source": [
        "# Copy resampled original\n",
        "from sklearn.model_selection import train_test_split\n",
        "\n",
        "from sklearn.model_selection import train_test_split\n",
        "train, test = train_test_split(sampled, train_size = 0.8, random_state=44, stratify=sampled.level)\n",
        "test, val = train_test_split(test, test_size=0.5, random_state=44, stratify=test.level)\n",
        "\n",
        "create_directory_flow(train,\n",
        "                      'train',\n",
        "                      'data/original/raw_dataset_extracted_downscaled/train',\n",
        "                      'resampled/original',\n",
        "                      'left')\n",
        "\n",
        "create_directory_flow(val,\n",
        "                      'validation',\n",
        "                      'data/original/raw_dataset_extracted_downscaled/train',\n",
        "                      'resampled/original',\n",
        "                      'left')\n",
        "\n",
        "create_directory_flow(test,\n",
        "                      'test',\n",
        "                      'data/original/raw_dataset_extracted_downscaled/train',\n",
        "                      'resampled/original',\n",
        "                      'left')"
      ],
      "execution_count": 42,
      "outputs": []
    },
    {
      "cell_type": "code",
      "metadata": {
        "colab": {
          "base_uri": "https://localhost:8080/"
        },
        "id": "Y_oM29leKgbG",
        "outputId": "084eb30c-063c-4dd6-dfc4-ddb111ffb2b8"
      },
      "source": [
        "from tensorflow.keras.preprocessing.image import ImageDataGenerator\n",
        "from keras.applications.inception_v3 import preprocess_input\n",
        "\n",
        "import cv2\n",
        "\n",
        "img_shape = (224, 224)\n",
        "train_path = os.path.join('/content/resampled', 'original', 'train')\n",
        "validation_path = os.path.join('/content/resampled','original', 'validation')\n",
        "test_path = os.path.join('/content/resampled','original', 'test')\n",
        "\n",
        "# Reescalamos todas las imágenes en un factor de 1./255\n",
        "train_datagen = ImageDataGenerator(\n",
        "    rescale=1/255,\n",
        "    horizontal_flip=True,\n",
        "    vertical_flip=True,\n",
        ")\n",
        "val_datagen = ImageDataGenerator(rescale=1./255)\n",
        "test_datagen = ImageDataGenerator(rescale=1./255)\n",
        "\n",
        "# La función flow_from_directory() toma el path a un directorio\n",
        "# y genera batches de data a la que aplica las transformaciones definidas\n",
        "train_generator = train_datagen.flow_from_directory(\n",
        "        train_path,\n",
        "        target_size=img_shape,\n",
        "        batch_size=128,\n",
        "        class_mode='binary')\n",
        "\n",
        "validation_generator = val_datagen.flow_from_directory(\n",
        "        validation_path,\n",
        "        target_size=img_shape,\n",
        "        batch_size=128,\n",
        "        shuffle=False,\n",
        "        class_mode='binary')\n",
        "\n",
        "test_generator = test_datagen.flow_from_directory(\n",
        "        test_path,\n",
        "        target_size=img_shape,\n",
        "        batch_size=128,\n",
        "        shuffle=False,\n",
        "        class_mode='binary')"
      ],
      "execution_count": 237,
      "outputs": [
        {
          "output_type": "stream",
          "text": [
            "Found 14905 images belonging to 2 classes.\n",
            "Found 1864 images belonging to 2 classes.\n",
            "Found 1863 images belonging to 2 classes.\n"
          ],
          "name": "stdout"
        }
      ]
    },
    {
      "cell_type": "code",
      "metadata": {
        "colab": {
          "base_uri": "https://localhost:8080/"
        },
        "id": "V-8qG4kFo2XU",
        "outputId": "d03bf13d-d15d-4011-87e4-c94d73837b99"
      },
      "source": [
        "train_generator.class_indices"
      ],
      "execution_count": 238,
      "outputs": [
        {
          "output_type": "execute_result",
          "data": {
            "text/plain": [
              "{'DR': 0, 'No DR': 1}"
            ]
          },
          "metadata": {
            "tags": []
          },
          "execution_count": 238
        }
      ]
    },
    {
      "cell_type": "code",
      "metadata": {
        "colab": {
          "base_uri": "https://localhost:8080/"
        },
        "id": "y1B-erQyexXv",
        "outputId": "424de1f9-8742-4ea5-ac32-aa2fcf6adb41"
      },
      "source": [
        "len(train_generator.classes)"
      ],
      "execution_count": 239,
      "outputs": [
        {
          "output_type": "execute_result",
          "data": {
            "text/plain": [
              "14905"
            ]
          },
          "metadata": {
            "tags": []
          },
          "execution_count": 239
        }
      ]
    },
    {
      "cell_type": "code",
      "metadata": {
        "id": "fYFnaaUecJRf"
      },
      "source": [
        "def attention(bn, pt_depth):\n",
        "  attn_layer = Conv2D(64, kernel_size = (1,1), padding = 'same', activation = 'relu')(bn)\n",
        "  attn_layer = Conv2D(16, kernel_size = (1,1), padding = 'same', activation = 'relu')(attn_layer)\n",
        "  attn_layer = LocallyConnected2D(1, kernel_size = (1,1), padding = 'valid', activation = 'sigmoid')(attn_layer)\n",
        "  up_c2_w = np.ones((1, 1, 1, pt_depth))\n",
        "  up_c2 = Conv2D(pt_depth, kernel_size = (1,1), padding = 'same', activation = 'linear', use_bias = False, weights = [up_c2_w])\n",
        "  up_c2.trainable = False\n",
        "  attn_layer = up_c2(attn_layer)\n",
        "  mask_features = multiply([attn_layer, bn])\n",
        "  gap_features = GlobalAveragePooling2D()(mask_features)\n",
        "  gap_mask = GlobalAveragePooling2D()(attn_layer)\n",
        "  return Lambda(lambda x: x[0]/x[1])([gap_features, gap_mask])\n"
      ],
      "execution_count": 240,
      "outputs": []
    },
    {
      "cell_type": "code",
      "metadata": {
        "id": "H6x5kWK0JZAX"
      },
      "source": [
        "from tensorflow.keras.applications import InceptionV3\n",
        "\n",
        "from tensorflow.keras.models import Model\n",
        "\n",
        "from tensorflow.keras.layers import BatchNormalization, LocallyConnected2D\n",
        "from tensorflow.keras.layers import Flatten, Input, Conv2D, multiply\n",
        "from tensorflow.keras.layers import GlobalAveragePooling2D, Dense, Dropout\n",
        "from tensorflow.keras.layers import Lambda, GlobalMaxPooling2D, Concatenate, MaxPooling2D\n",
        "\n",
        "(w, h) = img_shape\n",
        "input_shape = [w, h, 3]\n",
        "\n",
        "input_layer = Input(input_shape)\n",
        "inception = InceptionV3(input_shape=input_shape,\n",
        "                                          include_top = False,\n",
        "                                          weights='imagenet')\n",
        "\n",
        "inception.trainable = False\n",
        "x = inception(input_layer)\n",
        "\n",
        "x = Conv2D(64, (3, 3),\n",
        "                      activation='relu',\n",
        "                      padding='same',\n",
        "                      name='block1_conv1')(x)\n",
        "x = Conv2D(64, (3, 3),\n",
        "                  activation='relu',\n",
        "                  padding='same',\n",
        "                  name='block1_conv2')(x)\n",
        "pt_features = MaxPooling2D((2, 2), strides=(2, 2), name='block1_pool')(x)\n",
        "\n",
        "pt_features1 = GlobalAveragePooling2D()(pt_features)\n",
        "pt_features2 = GlobalMaxPooling2D()(pt_features)\n",
        "pt_features3 = attention(pt_features, 64)\n",
        "\n",
        "pt_features = Concatenate()([pt_features1, pt_features2, pt_features3])\n",
        "\n",
        "pt_features = Dense(64, activation = \"relu\")(pt_features)\n",
        "classification_layer = Dense(1, activation = \"sigmoid\")(pt_features)\n",
        "\n",
        "retina_model = Model(inputs=[input_layer], outputs=[classification_layer])\n"
      ],
      "execution_count": 252,
      "outputs": []
    },
    {
      "cell_type": "code",
      "metadata": {
        "colab": {
          "base_uri": "https://localhost:8080/"
        },
        "id": "OxkUNQDJ_Qxz",
        "outputId": "7353006d-ea23-4da4-901f-bc8ca8ef900f"
      },
      "source": [
        "retina_model.summary()"
      ],
      "execution_count": 253,
      "outputs": [
        {
          "output_type": "stream",
          "text": [
            "Model: \"functional_70\"\n",
            "__________________________________________________________________________________________________\n",
            "Layer (type)                    Output Shape         Param #     Connected to                     \n",
            "==================================================================================================\n",
            "input_103 (InputLayer)          [(None, 224, 224, 3) 0                                            \n",
            "__________________________________________________________________________________________________\n",
            "inception_v3 (Functional)       (None, 5, 5, 2048)   21802784    input_103[0][0]                  \n",
            "__________________________________________________________________________________________________\n",
            "block1_conv1 (Conv2D)           (None, 5, 5, 64)     1179712     inception_v3[0][0]               \n",
            "__________________________________________________________________________________________________\n",
            "block1_conv2 (Conv2D)           (None, 5, 5, 64)     36928       block1_conv1[0][0]               \n",
            "__________________________________________________________________________________________________\n",
            "block1_pool (MaxPooling2D)      (None, 2, 2, 64)     0           block1_conv2[0][0]               \n",
            "__________________________________________________________________________________________________\n",
            "conv2d_8143 (Conv2D)            (None, 2, 2, 64)     4160        block1_pool[0][0]                \n",
            "__________________________________________________________________________________________________\n",
            "conv2d_8144 (Conv2D)            (None, 2, 2, 16)     1040        conv2d_8143[0][0]                \n",
            "__________________________________________________________________________________________________\n",
            "locally_connected2d_37 (Locally (None, 2, 2, 1)      68          conv2d_8144[0][0]                \n",
            "__________________________________________________________________________________________________\n",
            "conv2d_8145 (Conv2D)            (None, 2, 2, 64)     64          locally_connected2d_37[0][0]     \n",
            "__________________________________________________________________________________________________\n",
            "multiply_37 (Multiply)          (None, 2, 2, 64)     0           conv2d_8145[0][0]                \n",
            "                                                                 block1_pool[0][0]                \n",
            "__________________________________________________________________________________________________\n",
            "global_average_pooling2d_101 (G (None, 64)           0           multiply_37[0][0]                \n",
            "__________________________________________________________________________________________________\n",
            "global_average_pooling2d_102 (G (None, 64)           0           conv2d_8145[0][0]                \n",
            "__________________________________________________________________________________________________\n",
            "global_average_pooling2d_100 (G (None, 64)           0           block1_pool[0][0]                \n",
            "__________________________________________________________________________________________________\n",
            "global_max_pooling2d_38 (Global (None, 64)           0           block1_pool[0][0]                \n",
            "__________________________________________________________________________________________________\n",
            "lambda_31 (Lambda)              (None, 64)           0           global_average_pooling2d_101[0][0\n",
            "                                                                 global_average_pooling2d_102[0][0\n",
            "__________________________________________________________________________________________________\n",
            "concatenate_65 (Concatenate)    (None, 192)          0           global_average_pooling2d_100[0][0\n",
            "                                                                 global_max_pooling2d_38[0][0]    \n",
            "                                                                 lambda_31[0][0]                  \n",
            "__________________________________________________________________________________________________\n",
            "dense_70 (Dense)                (None, 64)           12352       concatenate_65[0][0]             \n",
            "__________________________________________________________________________________________________\n",
            "dense_71 (Dense)                (None, 1)            65          dense_70[0][0]                   \n",
            "==================================================================================================\n",
            "Total params: 23,037,173\n",
            "Trainable params: 1,234,325\n",
            "Non-trainable params: 21,802,848\n",
            "__________________________________________________________________________________________________\n"
          ],
          "name": "stdout"
        }
      ]
    },
    {
      "cell_type": "code",
      "metadata": {
        "colab": {
          "base_uri": "https://localhost:8080/"
        },
        "id": "0kMYnGylV-wQ",
        "outputId": "99a2fdad-d6b2-472f-dcc0-10044ea5824e"
      },
      "source": [
        "from tensorflow.keras.callbacks import ModelCheckpoint, LearningRateScheduler, EarlyStopping, ReduceLROnPlateau\n",
        "from tensorflow.keras import optimizers\n",
        "reduceLROnPlat = ReduceLROnPlateau(monitor='val_loss', factor=0.8, patience=3, verbose=1, mode='auto', epsilon=0.0001, cooldown=5, min_lr=0.0001)\n",
        "\n",
        "retina_model.compile(\n",
        "    loss='binary_crossentropy',\n",
        "    optimizer=optimizers.Adam(),\n",
        "    metrics=['accuracy']\n",
        ")"
      ],
      "execution_count": 254,
      "outputs": [
        {
          "output_type": "stream",
          "text": [
            "WARNING:tensorflow:`epsilon` argument is deprecated and will be removed, use `min_delta` instead.\n"
          ],
          "name": "stdout"
        }
      ]
    },
    {
      "cell_type": "code",
      "metadata": {
        "id": "LDHtxFKREHEW"
      },
      "source": [
        "from tensorflow.keras.callbacks import EarlyStopping\n",
        "\n",
        "early_stopping = EarlyStopping(\n",
        "    monitor=\"val_loss\",\n",
        "    patience=4,\n",
        "    verbose=1,\n",
        "    mode=\"auto\",\n",
        "    restore_best_weights=True,\n",
        ")"
      ],
      "execution_count": 255,
      "outputs": []
    },
    {
      "cell_type": "code",
      "metadata": {
        "colab": {
          "base_uri": "https://localhost:8080/"
        },
        "id": "BdSz6kixYpvu",
        "outputId": "a7ad7987-8015-4cd4-ac92-a628e9cb951f"
      },
      "source": [
        "history = retina_model.fit(\n",
        "    train_generator,\n",
        "    steps_per_epoch=len(train_generator),\n",
        "    epochs=130,\n",
        "    callbacks=[reduceLROnPlat, early_stopping],\n",
        "    validation_data=validation_generator,\n",
        "    validation_steps=len(validation_generator),\n",
        ")"
      ],
      "execution_count": 256,
      "outputs": [
        {
          "output_type": "stream",
          "text": [
            "Epoch 1/130\n",
            "117/117 [==============================] - 61s 520ms/step - loss: 0.7130 - accuracy: 0.6363 - val_loss: 0.5798 - val_accuracy: 0.7006\n",
            "Epoch 2/130\n",
            "117/117 [==============================] - 59s 504ms/step - loss: 0.5747 - accuracy: 0.6957 - val_loss: 0.5805 - val_accuracy: 0.6744\n",
            "Epoch 3/130\n",
            "117/117 [==============================] - 59s 508ms/step - loss: 0.5464 - accuracy: 0.7129 - val_loss: 0.5596 - val_accuracy: 0.7141\n",
            "Epoch 4/130\n",
            "117/117 [==============================] - 59s 507ms/step - loss: 0.5336 - accuracy: 0.7234 - val_loss: 0.5485 - val_accuracy: 0.7189\n",
            "Epoch 5/130\n",
            "117/117 [==============================] - 59s 507ms/step - loss: 0.5257 - accuracy: 0.7319 - val_loss: 0.5425 - val_accuracy: 0.7253\n",
            "Epoch 6/130\n",
            "117/117 [==============================] - 59s 503ms/step - loss: 0.5191 - accuracy: 0.7334 - val_loss: 0.5842 - val_accuracy: 0.7103\n",
            "Epoch 7/130\n",
            "117/117 [==============================] - 59s 504ms/step - loss: 0.5126 - accuracy: 0.7377 - val_loss: 0.5432 - val_accuracy: 0.7269\n",
            "Epoch 8/130\n",
            "117/117 [==============================] - 59s 506ms/step - loss: 0.5056 - accuracy: 0.7426 - val_loss: 0.5412 - val_accuracy: 0.7285\n",
            "Epoch 9/130\n",
            "117/117 [==============================] - 59s 505ms/step - loss: 0.4870 - accuracy: 0.7556 - val_loss: 0.5301 - val_accuracy: 0.7328\n",
            "Epoch 10/130\n",
            "117/117 [==============================] - 59s 503ms/step - loss: 0.4791 - accuracy: 0.7640 - val_loss: 0.5313 - val_accuracy: 0.7409\n",
            "Epoch 11/130\n",
            "117/117 [==============================] - 59s 505ms/step - loss: 0.4744 - accuracy: 0.7644 - val_loss: 0.5205 - val_accuracy: 0.7462\n",
            "Epoch 12/130\n",
            "117/117 [==============================] - 59s 505ms/step - loss: 0.4629 - accuracy: 0.7707 - val_loss: 0.5521 - val_accuracy: 0.7119\n",
            "Epoch 13/130\n",
            "117/117 [==============================] - 59s 503ms/step - loss: 0.4625 - accuracy: 0.7754 - val_loss: 0.5297 - val_accuracy: 0.7446\n",
            "Epoch 14/130\n",
            "117/117 [==============================] - ETA: 0s - loss: 0.4537 - accuracy: 0.7784\n",
            "Epoch 00014: ReduceLROnPlateau reducing learning rate to 0.000800000037997961.\n",
            "117/117 [==============================] - 59s 505ms/step - loss: 0.4537 - accuracy: 0.7784 - val_loss: 0.5946 - val_accuracy: 0.7157\n",
            "Epoch 15/130\n",
            "117/117 [==============================] - ETA: 0s - loss: 0.4440 - accuracy: 0.7841Restoring model weights from the end of the best epoch.\n",
            "117/117 [==============================] - 59s 508ms/step - loss: 0.4440 - accuracy: 0.7841 - val_loss: 0.5441 - val_accuracy: 0.7387\n",
            "Epoch 00015: early stopping\n"
          ],
          "name": "stdout"
        }
      ]
    },
    {
      "cell_type": "code",
      "metadata": {
        "id": "CdVVr0FF5N_x"
      },
      "source": [
        "def predictAndEvaluate(model_):\n",
        "  y_pred = model_.predict(test_generator,steps=100)\n",
        "  from sklearn.metrics import classification_report\n",
        "  y_pred1 =y_pred.copy()\n",
        "  y_pred1[y_pred1>=0.5] = 1\n",
        "  y_pred1[y_pred1<0.5] = 0\n",
        "  y_pred1=y_pred1.astype(int)\n",
        "\n",
        "  print(classification_report(test_generator.classes, y_pred1))\n",
        "  from sklearn.metrics import balanced_accuracy_score\n",
        "  print(balanced_accuracy_score(test_generator.classes, y_pred1))"
      ],
      "execution_count": 257,
      "outputs": []
    },
    {
      "cell_type": "code",
      "metadata": {
        "id": "62UyXAifs_nj",
        "colab": {
          "base_uri": "https://localhost:8080/"
        },
        "outputId": "e20187f9-be4b-46d0-ef1d-f9c27f96fdb4"
      },
      "source": [
        "predictAndEvaluate(retina_model)"
      ],
      "execution_count": 258,
      "outputs": [
        {
          "output_type": "stream",
          "text": [
            "WARNING:tensorflow:Your input ran out of data; interrupting training. Make sure that your dataset or generator can generate at least `steps_per_epoch * epochs` batches (in this case, 100 batches). You may need to use the repeat() function when building your dataset.\n",
            "              precision    recall  f1-score   support\n",
            "\n",
            "           0       0.79      0.65      0.71       932\n",
            "           1       0.70      0.83      0.76       931\n",
            "\n",
            "    accuracy                           0.74      1863\n",
            "   macro avg       0.75      0.74      0.74      1863\n",
            "weighted avg       0.75      0.74      0.74      1863\n",
            "\n",
            "0.7381040737957709\n"
          ],
          "name": "stdout"
        }
      ]
    },
    {
      "cell_type": "code",
      "metadata": {
        "id": "jjIX_EZqXFxf"
      },
      "source": [
        "import matplotlib.pyplot as plt\n",
        "def plotHistory(history_):\n",
        "  plt.plot(history_.history['accuracy'])\n",
        "  plt.plot(history_.history['val_accuracy'])\n",
        "  plt.title('model accuracy')\n",
        "  plt.ylabel('accuracy')\n",
        "  plt.xlabel('epoch')\n",
        "  plt.legend(['train', 'test'], loc='upper left')\n",
        "  plt.show()\n",
        "\n",
        "  plt.plot(history_.history['loss'])\n",
        "  plt.plot(history_.history['val_loss'])\n",
        "  plt.title('model loss')\n",
        "  plt.ylabel('loss')\n",
        "  plt.xlabel('epoch')\n",
        "  plt.legend(['train', 'test'], loc='upper left')\n",
        "  plt.show()"
      ],
      "execution_count": 261,
      "outputs": []
    },
    {
      "cell_type": "code",
      "metadata": {
        "colab": {
          "base_uri": "https://localhost:8080/",
          "height": 573
        },
        "id": "rQdjacU7W3Vn",
        "outputId": "0c9f7cc4-5a51-4ed5-9a9e-0ba5143164f3"
      },
      "source": [
        "plotHistory(history)"
      ],
      "execution_count": 262,
      "outputs": [
        {
          "output_type": "display_data",
          "data": {
            "image/png": "[encoded data removed]",
            "text/plain": [
              "<Figure size 432x288 with 1 Axes>"
            ]
          },
          "metadata": {
            "tags": [],
            "needs_background": "light"
          }
        },
        {
          "output_type": "display_data",
          "data": {
            "image/png": "[encoded data removed]",
            "text/plain": [
              "<Figure size 432x288 with 1 Axes>"
            ]
          },
          "metadata": {
            "tags": [],
            "needs_background": "light"
          }
        }
      ]
    },
    {
      "cell_type": "code",
      "metadata": {
        "id": "aeoIidsvemjp"
      },
      "source": [
        "for layer in inception.layers[:249]:\n",
        "    layer.trainable = False\n",
        "for layer in inception.layers[249:]:\n",
        "    layer.trainable = True"
      ],
      "execution_count": 263,
      "outputs": []
    },
    {
      "cell_type": "code",
      "metadata": {
        "id": "UnuRdzZ2f_dx"
      },
      "source": [
        "import tensorflow as tf\n",
        "retina_model.compile(\n",
        "    loss='binary_crossentropy',\n",
        "    optimizer=tf.optimizers.SGD(lr=0.0001, momentum=0.9),\n",
        "    metrics=['accuracy']\n",
        ")"
      ],
      "execution_count": 264,
      "outputs": []
    },
    {
      "cell_type": "code",
      "metadata": {
        "id": "U7aDK959gKmD"
      },
      "source": [
        "history2 = retina_model.fit(\n",
        "    train_generator,\n",
        "    steps_per_epoch=len(train_generator),\n",
        "    epochs=10,\n",
        "    validation_data=validation_generator,\n",
        "    validation_steps=len(validation_generator),\n",
        "     callbacks=[reduceLROnPlat, early_stopping],\n",
        "  )"
      ],
      "execution_count": null,
      "outputs": []
    },
    {
      "cell_type": "code",
      "metadata": {
        "id": "PWl3EKZqFebJ"
      },
      "source": [
        ""
      ],
      "execution_count": null,
      "outputs": []
    }
  ]
}